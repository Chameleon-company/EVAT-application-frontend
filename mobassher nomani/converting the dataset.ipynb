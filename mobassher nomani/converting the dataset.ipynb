{
 "cells": [
  {
   "cell_type": "code",
   "execution_count": null,
   "id": "90613eaf-856d-4ecb-a6c4-b0c4a72b2a70",
   "metadata": {},
   "outputs": [],
   "source": [
    "from geopy.geocoders import Nominatim\n",
    "import pandas as pd\n",
    "import geopandas as gpd\n",
    "import time"
   ]
  },
  {
   "cell_type": "code",
   "execution_count": null,
   "id": "63f73715-d40a-42f5-af2f-cd279a86ec46",
   "metadata": {},
   "outputs": [],
   "source": [
    "df = pd.read_csv('C:/Users/mobas/OneDrive/Desktop/EVAT.charging_stations.csv')"
   ]
  },
  {
   "cell_type": "code",
   "execution_count": null,
   "id": "b7a2d6ae-6d08-4289-b087-0edc11fef8ff",
   "metadata": {},
   "outputs": [],
   "source": [
    "df"
   ]
  },
  {
   "cell_type": "code",
   "execution_count": 5,
   "id": "45198ae5-dc47-434b-bc12-34bd1f56a569",
   "metadata": {},
   "outputs": [],
   "source": [
    "df = df[['cost', 'charging_points', 'pay_at_location', 'is_operational', 'latitude','longitude','operator', 'connection_type']]"
   ]
  },
  {
   "cell_type": "code",
   "execution_count": 6,
   "id": "058ec637-1a1a-4c16-b6d7-096d943b439e",
   "metadata": {},
   "outputs": [
    {
     "data": {
      "text/html": [
       "<div>\n",
       "<style scoped>\n",
       "    .dataframe tbody tr th:only-of-type {\n",
       "        vertical-align: middle;\n",
       "    }\n",
       "\n",
       "    .dataframe tbody tr th {\n",
       "        vertical-align: top;\n",
       "    }\n",
       "\n",
       "    .dataframe thead th {\n",
       "        text-align: right;\n",
       "    }\n",
       "</style>\n",
       "<table border=\"1\" class=\"dataframe\">\n",
       "  <thead>\n",
       "    <tr style=\"text-align: right;\">\n",
       "      <th></th>\n",
       "      <th>cost</th>\n",
       "      <th>charging_points</th>\n",
       "      <th>pay_at_location</th>\n",
       "      <th>is_operational</th>\n",
       "      <th>latitude</th>\n",
       "      <th>longitude</th>\n",
       "      <th>operator</th>\n",
       "      <th>connection_type</th>\n",
       "    </tr>\n",
       "  </thead>\n",
       "  <tbody>\n",
       "    <tr>\n",
       "      <th>0</th>\n",
       "      <td>Unknown</td>\n",
       "      <td>1</td>\n",
       "      <td>Unknown</td>\n",
       "      <td>Unknown</td>\n",
       "      <td>-31.936252</td>\n",
       "      <td>115.871531</td>\n",
       "      <td>Unknown</td>\n",
       "      <td>Unknown</td>\n",
       "    </tr>\n",
       "    <tr>\n",
       "      <th>1</th>\n",
       "      <td>Unknown</td>\n",
       "      <td>1</td>\n",
       "      <td>Unknown</td>\n",
       "      <td>Unknown</td>\n",
       "      <td>-32.935880</td>\n",
       "      <td>151.643848</td>\n",
       "      <td>ChargePoint</td>\n",
       "      <td>Type 1 (J1772)</td>\n",
       "    </tr>\n",
       "    <tr>\n",
       "      <th>2</th>\n",
       "      <td>Unknown</td>\n",
       "      <td>2</td>\n",
       "      <td>Unknown</td>\n",
       "      <td>Unknown</td>\n",
       "      <td>-41.218297</td>\n",
       "      <td>146.412523</td>\n",
       "      <td>Unknown</td>\n",
       "      <td>Type 2 (Socket Only)</td>\n",
       "    </tr>\n",
       "    <tr>\n",
       "      <th>3</th>\n",
       "      <td>Unknown</td>\n",
       "      <td>8</td>\n",
       "      <td>Unknown</td>\n",
       "      <td>Unknown</td>\n",
       "      <td>-34.755480</td>\n",
       "      <td>149.720994</td>\n",
       "      <td>Tesla Supercharger</td>\n",
       "      <td>Unknown</td>\n",
       "    </tr>\n",
       "    <tr>\n",
       "      <th>4</th>\n",
       "      <td>Unknown</td>\n",
       "      <td>4</td>\n",
       "      <td>Unknown</td>\n",
       "      <td>Unknown</td>\n",
       "      <td>-37.887228</td>\n",
       "      <td>145.082491</td>\n",
       "      <td>Tesla, Inc.</td>\n",
       "      <td>Unknown</td>\n",
       "    </tr>\n",
       "    <tr>\n",
       "      <th>...</th>\n",
       "      <td>...</td>\n",
       "      <td>...</td>\n",
       "      <td>...</td>\n",
       "      <td>...</td>\n",
       "      <td>...</td>\n",
       "      <td>...</td>\n",
       "      <td>...</td>\n",
       "      <td>...</td>\n",
       "    </tr>\n",
       "    <tr>\n",
       "      <th>1626</th>\n",
       "      <td>Unknown</td>\n",
       "      <td>1</td>\n",
       "      <td>Unknown</td>\n",
       "      <td>Unknown</td>\n",
       "      <td>-33.693647</td>\n",
       "      <td>151.018619</td>\n",
       "      <td>Blink Charging</td>\n",
       "      <td>Type 1 (J1772)</td>\n",
       "    </tr>\n",
       "    <tr>\n",
       "      <th>1627</th>\n",
       "      <td>Unknown</td>\n",
       "      <td>1</td>\n",
       "      <td>false</td>\n",
       "      <td>true</td>\n",
       "      <td>-31.937153</td>\n",
       "      <td>115.840552</td>\n",
       "      <td>Chargestar (AU)</td>\n",
       "      <td>Type 1 (J1772)</td>\n",
       "    </tr>\n",
       "    <tr>\n",
       "      <th>1628</th>\n",
       "      <td>Unknown</td>\n",
       "      <td>1</td>\n",
       "      <td>Unknown</td>\n",
       "      <td>Unknown</td>\n",
       "      <td>-35.240510</td>\n",
       "      <td>149.087110</td>\n",
       "      <td>ChargePoint</td>\n",
       "      <td>NEMA 5-20R</td>\n",
       "    </tr>\n",
       "    <tr>\n",
       "      <th>1629</th>\n",
       "      <td>Unknown</td>\n",
       "      <td>1</td>\n",
       "      <td>Unknown</td>\n",
       "      <td>Unknown</td>\n",
       "      <td>-33.883580</td>\n",
       "      <td>151.191530</td>\n",
       "      <td>ChargePoint</td>\n",
       "      <td>NEMA 5-20R</td>\n",
       "    </tr>\n",
       "    <tr>\n",
       "      <th>1630</th>\n",
       "      <td>Unknown</td>\n",
       "      <td>3</td>\n",
       "      <td>Unknown</td>\n",
       "      <td>true</td>\n",
       "      <td>-38.026662</td>\n",
       "      <td>145.209603</td>\n",
       "      <td>ChargePoint</td>\n",
       "      <td>Type 1 (J1772)</td>\n",
       "    </tr>\n",
       "  </tbody>\n",
       "</table>\n",
       "<p>1631 rows × 8 columns</p>\n",
       "</div>"
      ],
      "text/plain": [
       "         cost  charging_points pay_at_location is_operational   latitude  \\\n",
       "0     Unknown                1         Unknown        Unknown -31.936252   \n",
       "1     Unknown                1         Unknown        Unknown -32.935880   \n",
       "2     Unknown                2         Unknown        Unknown -41.218297   \n",
       "3     Unknown                8         Unknown        Unknown -34.755480   \n",
       "4     Unknown                4         Unknown        Unknown -37.887228   \n",
       "...       ...              ...             ...            ...        ...   \n",
       "1626  Unknown                1         Unknown        Unknown -33.693647   \n",
       "1627  Unknown                1           false           true -31.937153   \n",
       "1628  Unknown                1         Unknown        Unknown -35.240510   \n",
       "1629  Unknown                1         Unknown        Unknown -33.883580   \n",
       "1630  Unknown                3         Unknown           true -38.026662   \n",
       "\n",
       "       longitude            operator       connection_type  \n",
       "0     115.871531             Unknown               Unknown  \n",
       "1     151.643848         ChargePoint        Type 1 (J1772)  \n",
       "2     146.412523             Unknown  Type 2 (Socket Only)  \n",
       "3     149.720994  Tesla Supercharger               Unknown  \n",
       "4     145.082491         Tesla, Inc.               Unknown  \n",
       "...          ...                 ...                   ...  \n",
       "1626  151.018619      Blink Charging        Type 1 (J1772)  \n",
       "1627  115.840552     Chargestar (AU)        Type 1 (J1772)  \n",
       "1628  149.087110         ChargePoint            NEMA 5-20R  \n",
       "1629  151.191530         ChargePoint            NEMA 5-20R  \n",
       "1630  145.209603         ChargePoint        Type 1 (J1772)  \n",
       "\n",
       "[1631 rows x 8 columns]"
      ]
     },
     "execution_count": 6,
     "metadata": {},
     "output_type": "execute_result"
    }
   ],
   "source": [
    "df"
   ]
  },
  {
   "cell_type": "code",
   "execution_count": 7,
   "id": "dde325ab-0ab3-4aa3-8265-05712cb828d2",
   "metadata": {},
   "outputs": [],
   "source": [
    "geolocator = Nominatim(user_agent=\"skywalker1254\")"
   ]
  },
  {
   "cell_type": "code",
   "execution_count": 8,
   "id": "9b6da074-0479-420c-b2a1-2cb123b237f0",
   "metadata": {},
   "outputs": [],
   "source": [
    "def reverse_geocode(lat, lon):\n",
    "    for attempt in range(3):  # Retry up to 3 times\n",
    "        try:\n",
    "            location = geolocator.reverse((lat, lon), exactly_one=True)\n",
    "            return location.address if location else \"Address not found\"\n",
    "        except GeopyError as e:\n",
    "            print(f\"Attempt {attempt + 1}: {e}\")\n",
    "            time.sleep(2)  \n",
    "    return \"Error: Unable to fetch address\""
   ]
  },
  {
   "cell_type": "code",
   "execution_count": 9,
   "id": "de399e72-0a0b-4003-9b0d-2f78cfd39d81",
   "metadata": {},
   "outputs": [],
   "source": [
    "subset_df = df[['cost', 'charging_points', 'pay_at_location', 'is_operational', 'latitude','longitude','operator', 'connection_type']].copy()\n",
    "#subset_df['Address'] = geoloc.reverse(subset_df['latitude'], subset_df['longitude'])\n",
    "#subset_df\n"
   ]
  },
  {
   "cell_type": "code",
   "execution_count": null,
   "id": "d68f1f72-3bb5-4e51-a2d6-28ad160c3162",
   "metadata": {},
   "outputs": [],
   "source": [
    "subset_df['Address'] = subset_df.apply(lambda row: reverse_geocode(row['latitude'], row['longitude']), axis=1)\n",
    "#gdf = gpd.GeoDataFrame(df, geometry=gpd.points_from_xy(df.longitude, df.latitude))\n",
    " "
   ]
  },
  {
   "cell_type": "code",
   "execution_count": null,
   "id": "0c55a265-e506-49a2-b40b-152914880da8",
   "metadata": {},
   "outputs": [],
   "source": [
    "#gdf"
   ]
  },
  {
   "cell_type": "code",
   "execution_count": null,
   "id": "616d8947-8236-497b-b118-747c971a77ec",
   "metadata": {},
   "outputs": [],
   "source": [
    "subset_df"
   ]
  },
  {
   "cell_type": "code",
   "execution_count": null,
   "id": "07ff4efb-5967-4d6a-b3cc-6f8bd83e69fe",
   "metadata": {},
   "outputs": [],
   "source": [
    "#pip install googlemaps"
   ]
  },
  {
   "cell_type": "code",
   "execution_count": null,
   "id": "edfb9218-173c-4f0d-9d39-86a4983ed175",
   "metadata": {},
   "outputs": [],
   "source": [
    "subset_df.to_csv(\"C:/Users/mobas/OneDrive/Desktop/new.csv\", index= false)"
   ]
  }
 ],
 "metadata": {
  "kernelspec": {
   "display_name": "Python 3 (ipykernel)",
   "language": "python",
   "name": "python3"
  },
  "language_info": {
   "codemirror_mode": {
    "name": "ipython",
    "version": 3
   },
   "file_extension": ".py",
   "mimetype": "text/x-python",
   "name": "python",
   "nbconvert_exporter": "python",
   "pygments_lexer": "ipython3",
   "version": "3.12.4"
  }
 },
 "nbformat": 4,
 "nbformat_minor": 5
}
